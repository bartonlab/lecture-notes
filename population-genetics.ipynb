{
 "cells": [
  {
   "cell_type": "markdown",
   "metadata": {},
   "source": [
    "# Introduction to population genetics\n",
    "\n",
    "In [population genetics](https://en.wikipedia.org/wiki/Population_genetics), we wish to understand how genetic variation arises and is transmitted through populations. This has been one of the areas of biology where quantitative methods have been applied most successfully. These notes give a brief introduction to one of the foundational models in population genetics, the Wright-Fisher model, and its extensions.\n",
    "\n",
    "## The Wright-Fisher model\n",
    "\n",
    "To begin, we consider a population of $N$ individuals. For simplicity, we will start by assuming that there are only two types of individuals in the population: the **wild-type** and the **mutant**. Let $n(t)$ denote the number of mutants in the population at time $t$.\n",
    "\n",
    "The population evolves through discrete rounds of replication. Each time one of the individuals in the population replicates, it changes state or **mutates** from wild-type to mutant (or vice-versa) with probability $\\mu$. In general the mutation rates from wild-type to mutant and from mutant to wild-type can be different, but here for simplicity we will assume that they are the same.\n",
    "\n",
    "In the Wright-Fisher model, given that the current number of mutants in the population is $n(t)=n$, the number of mutants in the population at the next generation $n(t+1)=n^\\prime$ is a stochastic random variable that follows the **binomial** distribution,\n",
    "$$\n",
    "P(n(t+1)=n^\\prime|n(t)=n) = \\binom{N}{n^\\prime}p(n)^{n^\\prime}(1-p(n))^{N-n^\\prime}\\,,\n",
    "$$\n",
    "where\n",
    "$$\\begin{align}\\begin{aligned}\n",
    "p(n) &= \\frac{nf(1-\\mu) + (N-n)\\mu}{fn + (N-n)}\\\\\n",
    "     &= \\frac{xf(1-\\mu) + (1-x)}{fx + (1-x)}\\,,\n",
    "\\end{aligned}\\end{align}$$\n",
    "In this expression $f$ denotes the **fitness** of the mutant. The higher the fitness, the greater the probability of replication. The fitness of the wild-type is simply normalized to one."
   ]
  },
  {
   "cell_type": "markdown",
   "metadata": {},
   "source": [
    "### Example 1. Change in the number of mutants between generations.\n",
    "\n",
    "Let's examine the above dynamics to get a feel for the affects of fitness and mutation."
   ]
  },
  {
   "cell_type": "code",
   "execution_count": 1,
   "metadata": {},
   "outputs": [],
   "source": [
    "# Example plot of binomially distributed n', sample over 10^4 possibilities with numpy and plot.\n",
    "# Compare histogram with analytical binomial distribution."
   ]
  },
  {
   "cell_type": "markdown",
   "metadata": {},
   "source": [
    "### Aside: how realistic is the Wright-Fisher model?\n",
    "\n",
    "Immediately, the Wright-Fisher model makes several unrealistic assumptions. First, the population size $N$ is constant. Of course, we know that the size of populations fluctuates, sometimes dramatically. Second, we have assumed discrete generations, when in reality reproduction is a continuous process. Finally, the definition of \"fitness\" is much too simple. In reality, reproductive success is likely to involve a compromise between multiple important functions depending on the environment and on interactions within and between species.\n",
    "\n",
    "Despite these drawbacks, the Wright-Fisher model does clearly include key features that we seek to understand. Mutation provides a source of variation. Heritable features (i.e., the mutant or wild-type state) are passed down through generations. There is a sense that some features are more advantageous than others, and so through different levels of average reproductive success we expect that their relative frequencies will change with time. From the (fixed) population size, we have some sense of the degree of stochasticity inherent in replication.\n",
    "\n",
    "We will therefore make use of the Wright-Fisher model and its derivatives to understand the dynamics of genetic variation in population, while keeping in mind the model's limitations. We may need to reassess these methods when considering populations that span different environments, experience large variation in overall size, or have strong ecological interactions (e.g., predator-prey systems)."
   ]
  },
  {
   "cell_type": "code",
   "execution_count": null,
   "metadata": {},
   "outputs": [],
   "source": []
  },
  {
   "cell_type": "code",
   "execution_count": null,
   "metadata": {},
   "outputs": [],
   "source": []
  },
  {
   "cell_type": "code",
   "execution_count": null,
   "metadata": {},
   "outputs": [],
   "source": []
  }
 ],
 "metadata": {
  "kernelspec": {
   "display_name": "Python 3",
   "language": "python",
   "name": "python3"
  },
  "language_info": {
   "codemirror_mode": {
    "name": "ipython",
    "version": 3
   },
   "file_extension": ".py",
   "mimetype": "text/x-python",
   "name": "python",
   "nbconvert_exporter": "python",
   "pygments_lexer": "ipython3",
   "version": "3.6.4"
  }
 },
 "nbformat": 4,
 "nbformat_minor": 2
}
